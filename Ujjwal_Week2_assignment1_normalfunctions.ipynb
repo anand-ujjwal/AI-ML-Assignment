{
 "cells": [
  {
   "cell_type": "markdown",
   "metadata": {},
   "source": [
    "Assignment 1 - Smart Watch\n",
    "\n",
    "\n",
    "Since you are a student of Coding Club, you are expected to work hard and get better results than others. To track your time and expected performance in the Machine Learning Challenge,Rishabh bhaiya has asked you to install walkatime on your device which is an efficient timetracking tool to track your daily coding activity.\n",
    "\n",
    "In this challenge, Rishabh bhaiya gives you walkatime data of his past students and how theyperformed in the evaluation exam. Your task is to predict the score you will get given the amount of time you spend on coding daily.\n",
    "\n",
    "\n",
    "\n",
    "Input​- You are given one feature corresponding to time noted by walkatime.\n",
    "Output​- A scalar denoting the level of performance students achieved by devoting the giventime.\n",
    "\n",
    "Please find the attached training and testing data\n"
   ]
  },
  {
   "cell_type": "code",
   "execution_count": 1,
   "metadata": {},
   "outputs": [],
   "source": [
    "import numpy as np\n",
    "import pandas as pd\n",
    "import matplotlib.pyplot as plt"
   ]
  },
  {
   "cell_type": "code",
   "execution_count": 2,
   "metadata": {},
   "outputs": [
    {
     "name": "stdout",
     "output_type": "stream",
     "text": [
      "(3750,)\n",
      "(3750,)\n"
     ]
    }
   ],
   "source": [
    "dfx = pd.read_csv('./Training_Data/Linear_X_Train.csv')\n",
    "dfy = pd.read_csv('./Training_Data/Linear_Y_Train.csv')\n",
    "\n",
    "x = dfx.values\n",
    "y = dfy.values\n",
    "\n",
    "x = x.reshape((-1,))\n",
    "y = y.reshape((-1,))\n",
    "print(x.shape)\n",
    "print(y.shape)"
   ]
  },
  {
   "cell_type": "code",
   "execution_count": 3,
   "metadata": {},
   "outputs": [
    {
     "data": {
      "image/png": "[encoded data removed]",
      "text/plain": [
       "<Figure size 432x288 with 1 Axes>"
      ]
     },
     "metadata": {
      "needs_background": "light"
     },
     "output_type": "display_data"
    }
   ],
   "source": [
    "plt.scatter(x,y)\n",
    "X = (x-x.mean())/x.std()\n",
    "Y = y\n",
    "plt.scatter(X,Y)\n",
    "plt.show()"
   ]
  },
  {
   "cell_type": "code",
   "execution_count": 4,
   "metadata": {},
   "outputs": [
    {
     "data": {
      "image/png": "[encoded data removed]",
      "text/plain": [
       "<Figure size 432x288 with 1 Axes>"
      ]
     },
     "metadata": {
      "needs_background": "light"
     },
     "output_type": "display_data"
    }
   ],
   "source": [
    "plt.scatter(X,Y)\n",
    "plt.show()"
   ]
  },
  {
   "cell_type": "code",
   "execution_count": null,
   "metadata": {},
   "outputs": [],
   "source": []
  },
  {
   "cell_type": "markdown",
   "metadata": {},
   "source": [
    "Gradient Descent Algorithm\n",
    "\n",
    "    Start with a random theta\n",
    "    Repeat until converge\n",
    "        Update Theta according to the rule\n",
    "\n"
   ]
  },
  {
   "cell_type": "code",
   "execution_count": 23,
   "metadata": {},
   "outputs": [],
   "source": [
    "def hypothesis(x,theta):\n",
    "    return theta[0] + theta[1]*x\n",
    "\n",
    "\n",
    "def error(X,Y,theta):\n",
    "    \n",
    "    m = X.shape[0]\n",
    "    error = 0\n",
    "    \n",
    "    for i in range(m):\n",
    "        hx = hypothesis(X[i],theta)\n",
    "        error += (hx-Y[i])**2\n",
    "        \n",
    "    return error\n",
    "\n",
    "def gradient(X,Y,theta):\n",
    "    \n",
    "    grad = np.zeros((2,))\n",
    "    m = X.shape[0]\n",
    "\n",
    "    for i in range(m):\n",
    "        hx = hypothesis(X[i],theta)\n",
    "        grad[0] +=  (hx-Y[i])\n",
    "        grad[1] += (hx-Y[i])*X[i]\n",
    "        \n",
    "    return grad\n",
    "    \n",
    "#Algorithm\n",
    "def gradientDescent(X,Y,learning_rate=0.0001):\n",
    "    \n",
    "    theta = np.array([-2.0,0.0])\n",
    "    \n",
    "    itr = 0\n",
    "    max_itr = 100\n",
    "    \n",
    "    error_list = []\n",
    "    theta_list = []\n",
    "    \n",
    "    while(itr<=max_itr):\n",
    "        grad = gradient(X,Y,theta)\n",
    "        e = error(X,Y,theta)\n",
    "        error_list.append(e)\n",
    "        \n",
    "        theta_list.append((theta[0],theta[1]))\n",
    "        theta[0] = theta[0] - learning_rate*grad[0]\n",
    "        theta[1] = theta[1] - learning_rate*grad[1]\n",
    "        \n",
    "        \n",
    "        itr += 1\n",
    "        \n",
    "    \n",
    "    return theta,error_list,theta_list"
   ]
  },
  {
   "cell_type": "code",
   "execution_count": 24,
   "metadata": {},
   "outputs": [],
   "source": [
    "final_theta, error_list,theta_list = gradientDescent(X,Y)"
   ]
  },
  {
   "cell_type": "code",
   "execution_count": 25,
   "metadata": {},
   "outputs": [
    {
     "data": {
      "image/png": "[encoded data removed]",
      "text/plain": [
       "<Figure size 432x288 with 1 Axes>"
      ]
     },
     "metadata": {
      "needs_background": "light"
     },
     "output_type": "display_data"
    }
   ],
   "source": [
    "plt.plot(error_list)\n",
    "plt.show()"
   ]
  },
  {
   "cell_type": "code",
   "execution_count": 26,
   "metadata": {},
   "outputs": [
    {
     "name": "stdout",
     "output_type": "stream",
     "text": [
      "[ 0.68386897 79.90573694]\n"
     ]
    }
   ],
   "source": [
    "print(final_theta)"
   ]
  },
  {
   "cell_type": "code",
   "execution_count": 27,
   "metadata": {},
   "outputs": [],
   "source": [
    "testingdata = pd.read_csv('./Testing_Data/Linear_X_Test.csv')\n",
    "xat = testingdata.values\n",
    "xat = xat.reshape((-1,))"
   ]
  },
  {
   "cell_type": "code",
   "execution_count": 28,
   "metadata": {},
   "outputs": [
    {
     "data": {
      "image/png": "[encoded data removed]",
      "text/plain": [
       "<Figure size 432x288 with 1 Axes>"
      ]
     },
     "metadata": {
      "needs_background": "light"
     },
     "output_type": "display_data"
    }
   ],
   "source": [
    "plt.scatter(X,Y,label='Training Data')\n",
    "plt.plot(xat,hypothesis(xat,final_theta),color='orange',label=\"Prediction\")\n",
    "plt.legend()\n",
    "plt.show()"
   ]
  },
  {
   "cell_type": "code",
   "execution_count": null,
   "metadata": {},
   "outputs": [],
   "source": []
  },
  {
   "cell_type": "code",
   "execution_count": null,
   "metadata": {},
   "outputs": [],
   "source": []
  },
  {
   "cell_type": "code",
   "execution_count": null,
   "metadata": {},
   "outputs": [],
   "source": []
  }
 ],
 "metadata": {
  "kernelspec": {
   "display_name": "Python 3",
   "language": "python",
   "name": "python3"
  },
  "language_info": {
   "codemirror_mode": {
    "name": "ipython",
    "version": 3
   },
   "file_extension": ".py",
   "mimetype": "text/x-python",
   "name": "python",
   "nbconvert_exporter": "python",
   "pygments_lexer": "ipython3",
   "version": "3.7.4"
  }
 },
 "nbformat": 4,
 "nbformat_minor": 2
}
