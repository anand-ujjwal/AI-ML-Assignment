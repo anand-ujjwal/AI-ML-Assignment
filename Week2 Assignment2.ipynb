{
 "cells": [
  {
   "cell_type": "markdown",
   "metadata": {},
   "source": [
    "Assignment 2 - Air Pollution\n",
    "Air Pollution is Rising!\n",
    "Predicting Pollution Levels using Machine Learning\n",
    "It is winter time in Delhi so Cody decided to go for a walk to the news stand and on reachingwas surprised to see the air quality index of Delhi in the newspaper . So he decided to collectthe air samples of different locations and then took these samples to his lab where he extractedfive features of the air he collected which can be used to predict the air quality index andcombined it with the air quality index given in the newspapers. You are provided with the datacollected by Cody and your job is to design a machine learning model which given the featuresextracted by Cody can predict air quality.\n",
    "\n",
    "Data consist of three csv files :-1.Train.csv2.Test.csv\n",
    "\n",
    "Train:-​ The train data consists of five feature columns and one target column. All the featurecolumns are numeric and target value is also numeric.\n",
    "\n",
    "Test:-​ Test data consist all the columns contained by train with the exception of target columnwhich u have to predict using the model trained on train data.\n",
    "\n",
    "Please find the attached training and testing data."
   ]
  },
  {
   "cell_type": "code",
   "execution_count": 1,
   "metadata": {},
   "outputs": [
    {
     "name": "stdout",
     "output_type": "stream",
     "text": [
      "   feature_1  feature_2  feature_3  feature_4  feature_5     target\n",
      "0   0.293416  -0.945599  -0.421105   0.406816   0.525662 -82.154667\n",
      "1  -0.836084  -0.189228  -0.776403  -1.053831   0.597997 -48.897960\n",
      "2   0.236425   0.132836  -0.147723   0.699854  -0.187364  77.270371\n",
      "3   0.175312   0.143194  -0.581111  -0.122107  -1.292168  -2.988581\n",
      "4  -1.693011   0.542712  -2.798729  -0.686723   1.244077 -37.596722\n",
      "(1600, 5)\n",
      "(1600, 1)\n",
      "[ 0.29341624 -0.94559871 -0.42110515  0.40681602  0.52566183]\n"
     ]
    }
   ],
   "source": [
    "import numpy as np\n",
    "import pandas as pd\n",
    "import matplotlib.pyplot as plt\n",
    "\n",
    "df = pd.read_csv('./Training_Data/Train.csv')\n",
    "print(df.head())\n",
    "\n",
    "xdata = df.loc[:, ['feature_1','feature_2','feature_3','feature_4','feature_5']]\n",
    "ydata = df.loc[:, ['target']]\n",
    "\n",
    "\n",
    "x = xdata.values\n",
    "y =ydata.values\n",
    "print(x.shape)\n",
    "print(y.shape)\n",
    "\n",
    "X=x\n",
    "Y=y\n",
    "\n",
    "print(x[0])\n",
    "itr =100\n",
    "ler = 0.01"
   ]
  },
  {
   "cell_type": "code",
   "execution_count": 2,
   "metadata": {},
   "outputs": [],
   "source": [
    "def hypothesis(x,theta):\n",
    "      return theta[0]*x[0] + theta[1]*x[1] + theta[2]*x[2] + theta[3]*x[3] + theta[4]*x[4] + theta[5]\n",
    "\n",
    "\n",
    "def error(X,Y,theta):\n",
    "    error = 0.0\n",
    "    m = x.shape[0]\n",
    "    for i in range(m):\n",
    "        hx = hypothesis(X[i],theta)\n",
    "        error += (hx-Y[i])**2        \n",
    "    return error\n",
    "\n",
    "def gradient(X,Y,theta):\n",
    "    \n",
    "    grad = np.zeros((6,))\n",
    "    m = X.shape[0]\n",
    "\n",
    "    for i in range(m):\n",
    "        hx = hypothesis(X[i],theta)\n",
    "        grad[5] +=  (hx-Y[i])\n",
    "        grad[1] += (hx-Y[i])*X[i][1]\n",
    "        grad[2] += (hx-Y[i])*X[i][2]\n",
    "        grad[3] += (hx-Y[i])*X[i][3]\n",
    "        grad[4] += (hx-Y[i])*X[i][4]\n",
    "        grad[0] += (hx-Y[i])*X[i][0]\n",
    "        \n",
    "    return grad\n",
    "    \n",
    "#Algorithm\n",
    "def gradientDescent(X,Y,learning_rate=0.001):\n",
    "    \n",
    "    theta = np.array([5.0,2.0,3.0,4.0,5.0,0.0])\n",
    "    \n",
    "    itr = 0\n",
    "    max_itr = 100\n",
    "    \n",
    "    error_list = []\n",
    "    theta_list = []\n",
    "    \n",
    "    while(itr<=max_itr):\n",
    "        grad = gradient(X,Y,theta)\n",
    "        e = error(X,Y,theta)\n",
    "        error_list.append(e)\n",
    "        \n",
    "        theta_list.append((theta[0],theta[1],theta[2],theta[3],theta[4],theta[5]))\n",
    "        theta[5] = theta[5] - learning_rate*grad[5]\n",
    "        theta[1] = theta[1] - learning_rate*grad[1]\n",
    "        theta[2] = theta[2] - learning_rate*grad[2]\n",
    "        theta[3] = theta[3] - learning_rate*grad[3]\n",
    "        theta[4] = theta[4] - learning_rate*grad[4]\n",
    "        theta[0] = theta[0] - learning_rate*grad[0]\n",
    "\n",
    "        \n",
    "        \n",
    "        itr += 1\n",
    "        \n",
    "    \n",
    "    return theta,error_list,theta_list"
   ]
  },
  {
   "cell_type": "code",
   "execution_count": 3,
   "metadata": {},
   "outputs": [],
   "source": [
    "final_theta, error_list,theta_list = gradientDescent(X,Y)"
   ]
  },
  {
   "cell_type": "code",
   "execution_count": 4,
   "metadata": {},
   "outputs": [],
   "source": [
    "testingdata = pd.read_csv('./Testing_Data/Test.csv')\n",
    "test = testingdata.values"
   ]
  },
  {
   "cell_type": "code",
   "execution_count": 5,
   "metadata": {},
   "outputs": [
    {
     "data": {
      "image/png": "[encoded data removed]",
      "text/plain": [
       "<Figure size 432x288 with 1 Axes>"
      ]
     },
     "metadata": {
      "needs_background": "light"
     },
     "output_type": "display_data"
    }
   ],
   "source": [
    "plt.plot(error_list)\n",
    "plt.show()"
   ]
  },
  {
   "cell_type": "code",
   "execution_count": 6,
   "metadata": {},
   "outputs": [
    {
     "name": "stdout",
     "output_type": "stream",
     "text": [
      "[29.68187118 92.6624776   8.28062089 44.76773522  2.51916121  4.99096674]\n"
     ]
    }
   ],
   "source": [
    "print(final_theta)"
   ]
  },
  {
   "cell_type": "code",
   "execution_count": null,
   "metadata": {},
   "outputs": [],
   "source": []
  },
  {
   "cell_type": "code",
   "execution_count": null,
   "metadata": {},
   "outputs": [],
   "source": []
  },
  {
   "cell_type": "code",
   "execution_count": null,
   "metadata": {},
   "outputs": [],
   "source": []
  }
 ],
 "metadata": {
  "kernelspec": {
   "display_name": "Python 3",
   "language": "python",
   "name": "python3"
  },
  "language_info": {
   "codemirror_mode": {
    "name": "ipython",
    "version": 3
   },
   "file_extension": ".py",
   "mimetype": "text/x-python",
   "name": "python",
   "nbconvert_exporter": "python",
   "pygments_lexer": "ipython3",
   "version": "3.7.4"
  }
 },
 "nbformat": 4,
 "nbformat_minor": 2
}
